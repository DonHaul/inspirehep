{
 "cells": [
  {
   "cell_type": "code",
   "execution_count": 10,
   "id": "5735cfb5-c8d4-4bab-83ef-0472b6343fb5",
   "metadata": {},
   "outputs": [
    {
     "ename": "ModuleNotFoundError",
     "evalue": "No module named 'orjson'",
     "output_type": "error",
     "traceback": [
      "\u001b[0;31m---------------------------------------------------------------------------\u001b[0m",
      "\u001b[0;31mModuleNotFoundError\u001b[0m                       Traceback (most recent call last)",
      "Cell \u001b[0;32mIn[10], line 2\u001b[0m\n\u001b[1;32m      1\u001b[0m \u001b[38;5;28;01mimport\u001b[39;00m \u001b[38;5;21;01mrequests\u001b[39;00m\n\u001b[0;32m----> 2\u001b[0m \u001b[38;5;28;01mimport\u001b[39;00m \u001b[38;5;21;01morjson\u001b[39;00m\n",
      "\u001b[0;31mModuleNotFoundError\u001b[0m: No module named 'orjson'"
     ]
    }
   ],
   "source": [
    "import requests\n",
    "import orjson"
   ]
  },
  {
   "cell_type": "code",
   "execution_count": 3,
   "id": "1cd90c81-9c41-4e92-90f4-075a1266ff04",
   "metadata": {},
   "outputs": [],
   "source": [
    "bearer_keyword='Token'\n",
    "token='451899dc58dffeb4370c10b38834b5c6e7125a51'\n",
    "url= 'https://backoffice.dev.inspirebeta.net'\n",
    "endpoint='/api/workflows'\n",
    "data={\n",
    "  \"core\": False,\n",
    "  \"data\": {\n",
    "    \"_collections\": [\n",
    "      \"Authors\"\n",
    "    ],\n",
    "    \"acquisition_source\": {\n",
    "      \"datetime\": \"2024-06-14T13:42:06.461825\",\n",
    "      \"email\": \"admin@inspirehep.net\",\n",
    "      \"internal_uid\": 1,\n",
    "      \"method\": \"submitter\",\n",
    "      \"source\": \"submitter\"\n",
    "    },\n",
    "    \"name\": {\n",
    "      \"preferred_name\": \"Jocas\",\n",
    "      \"value\": \"Ramiro, Joao\"\n",
    "    },\n",
    "    \"status\": \"active\"\n",
    "  },\n",
    "  \"is_update\": True,\n",
    "  \"status\": \"running\",\n",
    "  \"workflow_type\": \"AUTHOR_CREATE\"\n",
    "}"
   ]
  },
  {
   "cell_type": "code",
   "execution_count": null,
   "id": "e51beb1e-0d19-4754-904b-34e372e6a498",
   "metadata": {},
   "outputs": [],
   "source": []
  },
  {
   "cell_type": "code",
   "execution_count": 5,
   "id": "e17ee626-e7ef-4b53-b800-60f007a8f8f5",
   "metadata": {},
   "outputs": [
    {
     "ename": "NameError",
     "evalue": "name 'orjson' is not defined",
     "output_type": "error",
     "traceback": [
      "\u001b[0;31m---------------------------------------------------------------------------\u001b[0m",
      "\u001b[0;31mNameError\u001b[0m                                 Traceback (most recent call last)",
      "Cell \u001b[0;32mIn[5], line 8\u001b[0m\n\u001b[1;32m      1\u001b[0m headers \u001b[38;5;241m=\u001b[39m {\n\u001b[1;32m      2\u001b[0m             \u001b[38;5;124m\"\u001b[39m\u001b[38;5;124mcontent-type\u001b[39m\u001b[38;5;124m\"\u001b[39m: \u001b[38;5;124m\"\u001b[39m\u001b[38;5;124mapplication/json\u001b[39m\u001b[38;5;124m\"\u001b[39m,\n\u001b[1;32m      3\u001b[0m             \u001b[38;5;124m\"\u001b[39m\u001b[38;5;124mAuthorization\u001b[39m\u001b[38;5;124m\"\u001b[39m: \u001b[38;5;124mf\u001b[39m\u001b[38;5;124m\"\u001b[39m\u001b[38;5;132;01m{\u001b[39;00mbearer_keyword\u001b[38;5;132;01m}\u001b[39;00m\u001b[38;5;124m \u001b[39m\u001b[38;5;132;01m{\u001b[39;00mtoken\u001b[38;5;132;01m}\u001b[39;00m\u001b[38;5;124m\"\u001b[39m,\n\u001b[1;32m      4\u001b[0m         }\n\u001b[1;32m      6\u001b[0m response \u001b[38;5;241m=\u001b[39m requests\u001b[38;5;241m.\u001b[39mpost(\n\u001b[1;32m      7\u001b[0m     \u001b[38;5;124mf\u001b[39m\u001b[38;5;124m\"\u001b[39m\u001b[38;5;132;01m{\u001b[39;00murl\u001b[38;5;132;01m}\u001b[39;00m\u001b[38;5;132;01m{\u001b[39;00mendpoint\u001b[38;5;132;01m}\u001b[39;00m\u001b[38;5;124m\"\u001b[39m,\n\u001b[0;32m----> 8\u001b[0m     data\u001b[38;5;241m=\u001b[39m\u001b[43morjson\u001b[49m\u001b[38;5;241m.\u001b[39mdumps(data),\n\u001b[1;32m      9\u001b[0m     headers\u001b[38;5;241m=\u001b[39mheaders,\n\u001b[1;32m     10\u001b[0m )\n",
      "\u001b[0;31mNameError\u001b[0m: name 'orjson' is not defined"
     ]
    }
   ],
   "source": [
    "headers = {\n",
    "            \"content-type\": \"application/json\",\n",
    "            \"Authorization\": f\"{bearer_keyword} {token}\",\n",
    "        }\n",
    "\n",
    "response = requests.post(\n",
    "    f\"{url}{endpoint}\",\n",
    "    data=orjson.dumps(data),\n",
    "    headers=headers,\n",
    ")"
   ]
  },
  {
   "cell_type": "code",
   "execution_count": null,
   "id": "d758d54d-677a-4113-9d84-228710cfca55",
   "metadata": {},
   "outputs": [],
   "source": []
  },
  {
   "cell_type": "code",
   "execution_count": 7,
   "id": "c651360a-d84c-483f-a869-1bef0f293d7b",
   "metadata": {},
   "outputs": [
    {
     "name": "stdout",
     "output_type": "stream",
     "text": [
      "Collecting orjson\n",
      "  Downloading orjson-3.10.5-cp311-cp311-macosx_10_15_x86_64.macosx_11_0_arm64.macosx_10_15_universal2.whl.metadata (49 kB)\n",
      "\u001b[2K     \u001b[38;2;114;156;31m━━━━━━━━━━━━━━━━━━━━━━━━━━━━━━━━━━━━━━━━\u001b[0m \u001b[32m49.7/49.7 kB\u001b[0m \u001b[31m2.0 MB/s\u001b[0m eta \u001b[36m0:00:00\u001b[0m\n",
      "\u001b[?25hDownloading orjson-3.10.5-cp311-cp311-macosx_10_15_x86_64.macosx_11_0_arm64.macosx_10_15_universal2.whl (258 kB)\n",
      "\u001b[2K   \u001b[38;2;114;156;31m━━━━━━━━━━━━━━━━━━━━━━━━━━━━━━━━━━━━━━━━\u001b[0m \u001b[32m258.7/258.7 kB\u001b[0m \u001b[31m6.4 MB/s\u001b[0m eta \u001b[36m0:00:00\u001b[0mm eta \u001b[36m0:00:01\u001b[0m\n",
      "\u001b[?25hInstalling collected packages: orjson\n",
      "Successfully installed orjson-3.10.5\n"
     ]
    }
   ],
   "source": [
    "!pip install orjson"
   ]
  },
  {
   "cell_type": "code",
   "execution_count": null,
   "id": "f907c275-1ec6-487a-9b26-28a56e8bef3d",
   "metadata": {},
   "outputs": [],
   "source": []
  }
 ],
 "metadata": {
  "kernelspec": {
   "display_name": "Python 3 (ipykernel)",
   "language": "python",
   "name": "python3"
  },
  "language_info": {
   "codemirror_mode": {
    "name": "ipython",
    "version": 3
   },
   "file_extension": ".py",
   "mimetype": "text/x-python",
   "name": "python",
   "nbconvert_exporter": "python",
   "pygments_lexer": "ipython3",
   "version": "3.12.3"
  }
 },
 "nbformat": 4,
 "nbformat_minor": 5
}
