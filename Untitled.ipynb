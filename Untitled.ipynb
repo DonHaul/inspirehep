{
 "cells": [
  {
   "cell_type": "code",
   "execution_count": 4,
   "id": "5735cfb5-c8d4-4bab-83ef-0472b6343fb5",
   "metadata": {},
   "outputs": [],
   "source": [
    "import requests\n",
    "import json"
   ]
  },
  {
   "cell_type": "code",
   "execution_count": 15,
   "id": "1cd90c81-9c41-4e92-90f4-075a1266ff04",
   "metadata": {},
   "outputs": [],
   "source": [
    "bearer_keyword='Token'\n",
    "token='d8907406de12a12012f320e72e119f7959bbe385' #'451899dc58dffeb4370c10b38834b5c6e7125a51'\n",
    "url= 'https://backoffice.dev.inspirebeta.net'\n",
    "endpoint='/api/workflows/'\n",
    "data={\n",
    "  \"core\": False,\n",
    "  \"data\": {\n",
    "    \"_collections\": [\n",
    "      \"Authors\"\n",
    "    ],\n",
    "    \"acquisition_source\": {\n",
    "      \"datetime\": \"2024-06-14T13:42:06.461825\",\n",
    "      \"email\": \"admin@inspirehep.net\",\n",
    "      \"internal_uid\": 1,\n",
    "      \"method\": \"submitter\",\n",
    "      \"source\": \"submitter\"\n",
    "    },\n",
    "    \"name\": {\n",
    "      \"preferred_name\": \"Jocas\",\n",
    "      \"value\": \"Ramiro, Joao\"\n",
    "    },\n",
    "    \"status\": \"active\"\n",
    "  },\n",
    "  \"is_update\": True,\n",
    "  \"status\": \"running\",\n",
    "  \"workflow_type\": \"AUTHOR_CREATE\"\n",
    "}"
   ]
  },
  {
   "cell_type": "code",
   "execution_count": null,
   "id": "e51beb1e-0d19-4754-904b-34e372e6a498",
   "metadata": {},
   "outputs": [],
   "source": []
  },
  {
   "cell_type": "code",
   "execution_count": 16,
   "id": "e17ee626-e7ef-4b53-b800-60f007a8f8f5",
   "metadata": {},
   "outputs": [],
   "source": [
    "headers = {\n",
    "            \"content-type\": \"application/json\",\n",
    "            \"Authorization\": f\"{bearer_keyword} {token}\",\n",
    "        }\n",
    "\n",
    "response = requests.post(\n",
    "    f\"{url}{endpoint}\",\n",
    "    json=data,\n",
    "    headers=headers,\n",
    ")"
   ]
  },
  {
   "cell_type": "code",
   "execution_count": 17,
   "id": "d758d54d-677a-4113-9d84-228710cfca55",
   "metadata": {},
   "outputs": [
    {
     "data": {
      "text/plain": [
       "b'{\"id\":\"34719c72-57ae-41f7-b079-5185c75b52f1\",\"workflow_type\":\"AUTHOR_CREATE\",\"data\":{\"_collections\":[\"Authors\"],\"acquisition_source\":{\"datetime\":\"2024-06-14T13:42:06.461825\",\"email\":\"admin@inspirehep.net\",\"internal_uid\":1,\"method\":\"submitter\",\"source\":\"submitter\"},\"name\":{\"preferred_name\":\"Jocas\",\"value\":\"Ramiro, Joao\"},\"status\":\"active\"},\"status\":\"running\",\"core\":false,\"is_update\":true,\"_created_at\":\"2024-06-14T13:45:45.099310Z\",\"_updated_at\":\"2024-06-14T13:45:45.099324Z\"}'"
      ]
     },
     "execution_count": 17,
     "metadata": {},
     "output_type": "execute_result"
    }
   ],
   "source": [
    "response.content"
   ]
  },
  {
   "cell_type": "code",
   "execution_count": 2,
   "id": "c651360a-d84c-483f-a869-1bef0f293d7b",
   "metadata": {},
   "outputs": [
    {
     "name": "stdout",
     "output_type": "stream",
     "text": [
      "Requirement already satisfied: orjson in /Users/albuquer/.pyenv/versions/3.11.9/lib/python3.11/site-packages (3.10.5)\n"
     ]
    }
   ],
   "source": [
    "!pip3 install orjson"
   ]
  },
  {
   "cell_type": "code",
   "execution_count": null,
   "id": "f907c275-1ec6-487a-9b26-28a56e8bef3d",
   "metadata": {},
   "outputs": [],
   "source": []
  }
 ],
 "metadata": {
  "kernelspec": {
   "display_name": "Python 3 (ipykernel)",
   "language": "python",
   "name": "python3"
  },
  "language_info": {
   "codemirror_mode": {
    "name": "ipython",
    "version": 3
   },
   "file_extension": ".py",
   "mimetype": "text/x-python",
   "name": "python",
   "nbconvert_exporter": "python",
   "pygments_lexer": "ipython3",
   "version": "3.12.3"
  }
 },
 "nbformat": 4,
 "nbformat_minor": 5
}
